{
 "cells": [
  {
   "cell_type": "code",
   "execution_count": 1,
   "metadata": {},
   "outputs": [],
   "source": [
    "import numpy as np"
   ]
  },
  {
   "cell_type": "code",
   "execution_count": 2,
   "metadata": {},
   "outputs": [
    {
     "name": "stdout",
     "output_type": "stream",
     "text": [
      "27.0\n"
     ]
    }
   ],
   "source": [
    "\n",
    "x = np.array([10, 10, 10, 10, 11, 11, 12, 13, 14, 15, 15, 15, 16, 16, 16, 16, 16, 17, 18, 19, 19, 20, 20, 20, 21, 21, 21, 21, 21, 22, 22, 22, 23, 23, 23, 24, 24, 24, 26, 26, 26, 26, 26, 26, 26, 27, 27, 27, 27, 29, 29, 29, 29, 29, 29, 29, 29, 29, 30, 30, 30, 30, 30, 31, 31, 32, 32, 33, 33, 34, 34, 35, 35, 35, 37, 37, 37, 37, 39, 39, 39, 40, 40, 43, 43, 44, 44, 46, 46, 46, 47, 49, 52, 53, 54])\n",
    "\n",
    "print(np.median(x))"
   ]
  },
  {
   "cell_type": "code",
   "execution_count": 5,
   "metadata": {},
   "outputs": [
    {
     "name": "stdout",
     "output_type": "stream",
     "text": [
      "arr :  [8, 12, 16, 24, 4]\n",
      "std of arr :  6.881860213634101\n",
      "mean of arr :  12.8\n"
     ]
    }
   ],
   "source": [
    "# Exercise 1\n",
    "\n",
    "# 1D Array\n",
    "\n",
    "arr = [8, 12, 16, 24, 4]\n",
    "\n",
    "print(\"arr : \", arr) \n",
    "print(\"std of arr : \", np.std(arr))\n",
    "print(\"mean of arr : \", np.mean(arr))\n"
   ]
  },
  {
   "cell_type": "code",
   "execution_count": null,
   "metadata": {},
   "outputs": [],
   "source": [
    "# Exercise 2\n",
    "\n",
    "# the outlier increases the standard deviation bc \n",
    "# standard deviation measures the average deviation of the data from the mean"
   ]
  },
  {
   "cell_type": "code",
   "execution_count": null,
   "metadata": {},
   "outputs": [],
   "source": [
    "# Exercise 3\n",
    "\n",
    "# Mean is greater than 30 & mode i leß than 30 "
   ]
  },
  {
   "cell_type": "code",
   "execution_count": 4,
   "metadata": {},
   "outputs": [
    {
     "name": "stdout",
     "output_type": "stream",
     "text": [
      "27.0\n"
     ]
    }
   ],
   "source": [
    "# Exercise 4\n",
    "\n",
    "\n",
    "arr = np.array([10, 10, 10, 10, 11, 11, 12, 13, 14, 15, 15, 15, 16, 16, 16, 16, 16, 17, 18, 19, 19, 20, 20, 20, 21, 21, 21, 21, 21, 22, 22, 22, 23, 23, 23, 24, 24, 24, 26, 26, 26, 26, 26, 26, 26, 27, 27, 27, 27, 29, 29, 29, 29, 29, 29, 29, 29, 29, 30, 30, 30, 30, 30, 31, 31, 32, 32, 33, 33, 34, 34, 35, 35, 35, 37, 37, 37, 37, 39, 39, 39, 40, 40, 43, 43, 44, 44, 46, 46, 46, 47, 49, 52, 53, 54])\n",
    "print(np.median(arr)) "
   ]
  },
  {
   "cell_type": "code",
   "execution_count": null,
   "metadata": {},
   "outputs": [],
   "source": [
    "# Exercise 5-6-7\n",
    "\n",
    "# What is the shape of the distribution? -- Positively skewed distribution\n",
    "# How many individuals have salary less than 10 thousands? -- 12"
   ]
  },
  {
   "cell_type": "code",
   "execution_count": 15,
   "metadata": {},
   "outputs": [
    {
     "name": "stdout",
     "output_type": "stream",
     "text": [
      "median of arr :  40.0\n",
      "the mean of arr : 39.0\n",
      "std of arr :  10.44030650891055\n"
     ]
    }
   ],
   "source": [
    "# Exercise 9\n",
    "\n",
    "x = np.array([25, 25, 25, 40, 40, 35, 50, 50, 50, 50]) \n",
    "\n",
    "print(\"median of arr : \", np.median(x))\n",
    "print('the mean of arr :', np.mean(x))\n",
    "print(\"std of arr : \", np.std(x))"
   ]
  }
 ],
 "metadata": {
  "kernelspec": {
   "display_name": "base",
   "language": "python",
   "name": "python3"
  },
  "language_info": {
   "codemirror_mode": {
    "name": "ipython",
    "version": 3
   },
   "file_extension": ".py",
   "mimetype": "text/x-python",
   "name": "python",
   "nbconvert_exporter": "python",
   "pygments_lexer": "ipython3",
   "version": "3.9.13"
  },
  "orig_nbformat": 4,
  "vscode": {
   "interpreter": {
    "hash": "b1427abf3b1641d47a4886c10bb719f53c7704f619927e972a3743f6046dccf4"
   }
  }
 },
 "nbformat": 4,
 "nbformat_minor": 2
}
