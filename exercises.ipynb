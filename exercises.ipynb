{
 "cells": [
  {
   "cell_type": "code",
   "execution_count": 1,
   "metadata": {},
   "outputs": [
    {
     "name": "stdout",
     "output_type": "stream",
     "text": [
      "Antonia\n"
     ]
    }
   ],
   "source": [
    "print(\"Antonia\")\n"
   ]
  },
  {
   "cell_type": "code",
   "execution_count": 1,
   "metadata": {},
   "outputs": [
    {
     "name": "stdout",
     "output_type": "stream",
     "text": [
      "my age:33\n"
     ]
    }
   ],
   "source": [
    "print(\"my age:33\")"
   ]
  },
  {
   "cell_type": "code",
   "execution_count": 6,
   "metadata": {},
   "outputs": [
    {
     "name": "stdout",
     "output_type": "stream",
     "text": [
      "my_age - julia_age\n"
     ]
    }
   ],
   "source": [
    "julia_age = (\"32\") \n",
    "my_age = (\"33\")\n",
    "age_diff = (\"my_age - julia_age\")\n",
    "\n",
    "print(\"my_age - julia_age\")"
   ]
  },
  {
   "cell_type": "code",
   "execution_count": 20,
   "metadata": {},
   "outputs": [
    {
     "name": "stdout",
     "output_type": "stream",
     "text": [
      "You are not older than 21\n"
     ]
    }
   ],
   "source": [
    "# Exercise 4 If...Else\n",
    "\n",
    "a = 20\n",
    "b = 21\n",
    "\n",
    "if a > b:\n",
    "\tprint(\"You are older than 21\")\n",
    "\n",
    "elif a < b:\n",
    "\tprint(\"You are not older than 21\")\n"
   ]
  },
  {
   "cell_type": "code",
   "execution_count": 23,
   "metadata": {},
   "outputs": [
    {
     "name": "stdout",
     "output_type": "stream",
     "text": [
      "Julia is older than you\n"
     ]
    }
   ],
   "source": [
    "# Exercise 5 \n",
    "\n",
    "my_age = 32\n",
    "julia_age = 35\n",
    "\n",
    "if my_age > julia_age:\n",
    "    print(\"Julia is younger than you\")\n",
    "\n",
    "elif my_age < julia_age:\n",
    "    print(\"Julia is older than you\")\n",
    "\n",
    "elif my_age == julia_age:\n",
    "    print(\"You have the same age as Julia\")"
   ]
  },
  {
   "cell_type": "code",
   "execution_count": 33,
   "metadata": {},
   "outputs": [
    {
     "name": "stdout",
     "output_type": "stream",
     "text": [
      "Stefan Dingler\n",
      "Antonia Fuhr\n",
      "Mohammed Al-Mashraee\n",
      "Rene van der Hout\n",
      "Fariha Ghiasi\n",
      "Konstantin Buravcov\n",
      "Arjun Pavakkulath\n",
      "Killian Meehan\n",
      "['Antonia Fuhr', 'Arjun Pavakkulath', 'Fariha Ghiasi', 'Killian Meehan', 'Konstantin Buravcov', 'Mohammed Al-Mashraee', 'Rene van der Hout', 'Stefan Dingler']\n",
      "Stefan Dingler\n",
      "Antonia Fuhr\n"
     ]
    }
   ],
   "source": [
    "# Exercise 6 List and Loops\n",
    "\n",
    "course_members = [\"Stefan Dingler\", \"Antonia Fuhr\", \"Mohammed Al-Mashraee\", \"Rene van der Hout\",\n",
    "                  \"Fariha Ghiasi\", \"Konstantin Buravcov\", \"Arjun Pavakkulath\", \"Killian Meehan\"]\n",
    "\n",
    "for x in course_members: \n",
    "    print(x)\n",
    "\n",
    "course_members.sort()\n",
    "\n",
    "print(course_members)\n",
    "\n",
    "print(course_members[-1])\n",
    "print(course_members[0])"
   ]
  },
  {
   "cell_type": "code",
   "execution_count": 60,
   "metadata": {},
   "outputs": [
    {
     "name": "stdout",
     "output_type": "stream",
     "text": [
      "20\n",
      "21\n",
      "22\n",
      "23\n",
      "24\n",
      "25\n",
      "40\n"
     ]
    }
   ],
   "source": [
    "# Exercise 7 Ages of Students\n",
    "\n",
    "age_members = [\"20\", \"21\", \"22\", \"23\", \"24\", \"25\", \"40\"]\n",
    "\n",
    "for x in age_members:\n",
    "    print(x)\n",
    "    "
   ]
  },
  {
   "cell_type": "code",
   "execution_count": 58,
   "metadata": {},
   "outputs": [
    {
     "ename": "TypeError",
     "evalue": "not all arguments converted during string formatting",
     "output_type": "error",
     "traceback": [
      "\u001b[1;31m---------------------------------------------------------------------------\u001b[0m",
      "\u001b[1;31mTypeError\u001b[0m                                 Traceback (most recent call last)",
      "\u001b[1;32m~\\AppData\\Local\\Temp\\ipykernel_22352\\2838181040.py\u001b[0m in \u001b[0;36m<module>\u001b[1;34m\u001b[0m\n\u001b[0;32m      1\u001b[0m \u001b[0mage_members\u001b[0m \u001b[1;33m=\u001b[0m \u001b[1;33m[\u001b[0m\u001b[1;34m\"20\"\u001b[0m\u001b[1;33m,\u001b[0m \u001b[1;34m\"21\"\u001b[0m\u001b[1;33m,\u001b[0m \u001b[1;34m\"22\"\u001b[0m\u001b[1;33m,\u001b[0m \u001b[1;34m\"23\"\u001b[0m\u001b[1;33m,\u001b[0m \u001b[1;34m\"24\"\u001b[0m\u001b[1;33m,\u001b[0m \u001b[1;34m\"25\"\u001b[0m\u001b[1;33m,\u001b[0m \u001b[1;34m\"40\"\u001b[0m\u001b[1;33m]\u001b[0m\u001b[1;33m\u001b[0m\u001b[1;33m\u001b[0m\u001b[0m\n\u001b[0;32m      2\u001b[0m \u001b[1;32mfor\u001b[0m \u001b[0mx\u001b[0m \u001b[1;32min\u001b[0m \u001b[0mage_members\u001b[0m\u001b[1;33m:\u001b[0m\u001b[1;33m\u001b[0m\u001b[1;33m\u001b[0m\u001b[0m\n\u001b[1;32m----> 3\u001b[1;33m     \u001b[1;32mif\u001b[0m\u001b[1;33m(\u001b[0m\u001b[0mx\u001b[0m\u001b[1;33m%\u001b[0m\u001b[1;36m2\u001b[0m\u001b[1;33m==\u001b[0m\u001b[1;36m0\u001b[0m\u001b[1;33m)\u001b[0m\u001b[1;33m:\u001b[0m\u001b[1;33m\u001b[0m\u001b[1;33m\u001b[0m\u001b[0m\n\u001b[0m\u001b[0;32m      4\u001b[0m         \u001b[0mprint\u001b[0m\u001b[1;33m(\u001b[0m\u001b[0mX\u001b[0m\u001b[1;33m)\u001b[0m\u001b[1;33m\u001b[0m\u001b[1;33m\u001b[0m\u001b[0m\n",
      "\u001b[1;31mTypeError\u001b[0m: not all arguments converted during string formatting"
     ]
    }
   ],
   "source": [
    "age_members = [\"20\", \"21\", \"22\", \"23\", \"24\", \"25\", \"40\"]\n",
    "for x in age_members:\n",
    "    if(x%2==0):\n",
    "        print(X)"
   ]
  },
  {
   "cell_type": "code",
   "execution_count": 70,
   "metadata": {},
   "outputs": [
    {
     "name": "stdout",
     "output_type": "stream",
     "text": [
      "20\n",
      "22\n",
      "24\n",
      "40\n"
     ]
    }
   ],
   "source": [
    "# Exercise 7 Ages of Students\n",
    "\n",
    "list1 = [20, 21, 22, 23, 24, 25, 40]\n",
    "\n",
    "for number in list1:\n",
    "    if (number % 2 == 0):\n",
    "        print(number)"
   ]
  },
  {
   "cell_type": "code",
   "execution_count": null,
   "metadata": {},
   "outputs": [],
   "source": [
    "# Exercise 7 Using a While Loop\n",
    "\n"
   ]
  },
  {
   "cell_type": "code",
   "execution_count": 72,
   "metadata": {},
   "outputs": [
    {
     "name": "stdout",
     "output_type": "stream",
     "text": [
      "(1, 2, 3, 4, 5, 6, 7, 8, 9, 10)\n"
     ]
    }
   ],
   "source": [
    "# Exercise 8 Write a List containing numbers and print the lowest number\n",
    "\n",
    "list = (1, 2, 3, 4, 5, 6, 7, 8, 9, 10)\n",
    "\n",
    "print(list)\n"
   ]
  },
  {
   "cell_type": "code",
   "execution_count": 78,
   "metadata": {},
   "outputs": [
    {
     "name": "stdout",
     "output_type": "stream",
     "text": [
      "Smallest element is: 1\n"
     ]
    }
   ],
   "source": [
    "list = (1, 2, 3, 4, 5, 6, 7, 8, 9, 10)\n",
    "\n",
    "\n",
    "print(\"Smallest element is:\", list[0])"
   ]
  },
  {
   "cell_type": "code",
   "execution_count": 79,
   "metadata": {},
   "outputs": [
    {
     "name": "stdout",
     "output_type": "stream",
     "text": [
      "Largest element ist: 10\n"
     ]
    }
   ],
   "source": [
    "# Exercise 9 Write a list containing numbers and print the highest number\n",
    "\n",
    "list = (1, 2, 3, 4, 5, 6, 7, 8, 9, 10)\n",
    "\n",
    "print(\"Largest element ist:\", list[-1])"
   ]
  },
  {
   "cell_type": "code",
   "execution_count": 82,
   "metadata": {},
   "outputs": [
    {
     "name": "stdout",
     "output_type": "stream",
     "text": [
      "The age of the member is: 24\n",
      "The age of the member is: 28\n",
      "The age of the member is: 18\n",
      "The age of the member is: 13\n",
      "The age of the member is: 16\n",
      "The age of the member is: 17\n",
      "The age of the member is: 29\n",
      "The age of the member is: 27\n",
      "The age of the member is: 44\n",
      "The age of the member is: 15\n"
     ]
    }
   ],
   "source": [
    "# Exercise 10 - Use a loop to iterate over the list and print the age of each customer\n",
    "\n",
    "list = [1999, 1995, 2005, 2010, 2007, 2006, 1994, 1996, 1979, 2008]\n",
    "\n",
    "current_year = 2023\n",
    "\n",
    "for x in list:\n",
    "    print(\"The age of the member is:\", current_year - x)\n"
   ]
  },
  {
   "cell_type": "code",
   "execution_count": 91,
   "metadata": {},
   "outputs": [
    {
     "name": "stdout",
     "output_type": "stream",
     "text": [
      "Bob is 24 years old\n",
      "Jack is 28 years old\n",
      "Lisa is 18 years old\n",
      "Maria is 13 years old\n",
      "Ben is 16 years old\n",
      "Emma is 17 years old\n",
      "Oscar is 29 years old\n",
      "Amy is 27 years old\n",
      "Paul is 44 years old\n",
      "Etta is 15 years old\n"
     ]
    }
   ],
   "source": [
    "# Exercise 11 Use a loop to iterate over the list and print the name and age of each customer.\n",
    "\n",
    "customer_list = [\n",
    "                    {\"name\": \"Bob\", \"age\": 1999},\n",
    "                    {\"name\": \"Jack\", \"age\": 1995},\n",
    "                    {\"name\": \"Lisa\", \"age\": 2005},\n",
    "                    {\"name\": \"Maria\", \"age\": 2010},\n",
    "                    {\"name\": \"Ben\", \"age\": 2007},\n",
    "                    {\"name\": \"Emma\", \"age\": 2006},\n",
    "                    {\"name\": \"Oscar\", \"age\": 1994},\n",
    "                    {\"name\": \"Amy\", \"age\": 1996},\n",
    "                    {\"name\": \"Paul\", \"age\": 1979},\n",
    "                    {\"name\": \"Etta\", \"age\": 2008}\n",
    "                ]\n",
    "\n",
    "current_year = 2023\n",
    "\n",
    "for x in customer_list:\n",
    "    print(x[\"name\"], \"is\", current_year - x[\"age\"], \"years old\")"
   ]
  },
  {
   "cell_type": "code",
   "execution_count": 103,
   "metadata": {},
   "outputs": [
    {
     "name": "stdout",
     "output_type": "stream",
     "text": [
      "Updated List: [20, 24, 14, 12, 13, 25, 23, 11]\n"
     ]
    }
   ],
   "source": [
    "# Exercise 12 Given a list of ages, remove the youngest and the oldest person. (Further Explore how to calculate youngest)\n",
    "  \n",
    "\n",
    "\n",
    "ages = [20, 24, 14, 9, 12, 13, 25, 23, 40, 11]\n",
    "\n",
    "ages.remove(9)\n",
    "ages.remove(40)\n",
    "\n",
    "print(\"Updated List:\", ages)\n"
   ]
  },
  {
   "cell_type": "code",
   "execution_count": 104,
   "metadata": {},
   "outputs": [
    {
     "name": "stdout",
     "output_type": "stream",
     "text": [
      "[11, 12, 13, 14, 20, 23, 24, 25]\n"
     ]
    }
   ],
   "source": [
    "# Exercise\n",
    "\n",
    "ages = [20, 24, 14, 9, 12, 13, 25, 23, 40, 11]\n",
    "\n",
    "ages.sort()\n",
    "del ages[0]\n",
    "del ages[-1]\n",
    "\n",
    "print(ages)\n"
   ]
  },
  {
   "cell_type": "code",
   "execution_count": 106,
   "metadata": {},
   "outputs": [
    {
     "data": {
      "text/plain": [
       "[10, 13, 15, 16, 18, 19]"
      ]
     },
     "execution_count": 106,
     "metadata": {},
     "output_type": "execute_result"
    }
   ],
   "source": [
    "# Exercise 13 You have two lists with ages of customers from different cities.  create an other list with the common ages.\n",
    "\n",
    "berlin = [15, 13, 16, 18, 19, 10, 12 ]\n",
    "munich = [7, 13, 15, 20, 19, 18, 10, 16]\n",
    "\n",
    "berlin.sort()\n",
    "munich.sort()\n",
    "\n",
    "[x for x in berlin if x in munich]"
   ]
  },
  {
   "cell_type": "code",
   "execution_count": 112,
   "metadata": {},
   "outputs": [
    {
     "name": "stdout",
     "output_type": "stream",
     "text": [
      "[15, 13, 16, 18, 19, 10]\n"
     ]
    }
   ],
   "source": [
    "# Exercise 14 - Remove the duplicates\n",
    "\n",
    "mylist = [15,13,16,18,19,15,10]\n",
    "result=[]\n",
    "for i in mylist:\n",
    "    if i not in result:\n",
    "        result.append(i)\n",
    "print(result)\n",
    "\n"
   ]
  },
  {
   "cell_type": "code",
   "execution_count": 116,
   "metadata": {},
   "outputs": [
    {
     "name": "stdout",
     "output_type": "stream",
     "text": [
      "Welcome, Manasa have a nice day!\n",
      "Welcome, Wadjet have a nice day!\n",
      "Welcome, Asclepius have a nice day!\n",
      "Welcome, Medusa have a nice day!\n"
     ]
    }
   ],
   "source": [
    "# Exercise 15 - Functions\n",
    "\n",
    "def my_function(fname):\n",
    "    print(\"Welcome,\", fname, \"have a nice day!\")\n",
    "\n",
    "my_function(\"Manasa\")\n",
    "my_function(\"Wadjet\")\n",
    "my_function(\"Asclepius\")\n",
    "my_function(\"Medusa\")\n"
   ]
  },
  {
   "cell_type": "code",
   "execution_count": 117,
   "metadata": {},
   "outputs": [
    {
     "name": "stdout",
     "output_type": "stream",
     "text": [
      "11\n"
     ]
    }
   ],
   "source": [
    "# Exercise 16 - Write a function that takes a string as input and calculates the length.\n",
    "\n",
    "get_length = \"Abrakadabra\"\n",
    "\n",
    "print(len(get_length))"
   ]
  },
  {
   "cell_type": "code",
   "execution_count": 122,
   "metadata": {},
   "outputs": [
    {
     "name": "stdout",
     "output_type": "stream",
     "text": [
      "A\n",
      "b\n",
      "r\n",
      "a\n",
      "k\n",
      "a\n",
      "d\n",
      "a\n",
      "b\n",
      "r\n",
      "a\n"
     ]
    }
   ],
   "source": [
    "get_length = \"Abrakadabra\"\n",
    "\n",
    "for x in get_length:\n",
    "    print(x)"
   ]
  },
  {
   "cell_type": "code",
   "execution_count": 132,
   "metadata": {},
   "outputs": [
    {
     "name": "stdout",
     "output_type": "stream",
     "text": [
      "This line has 5 words\n",
      "This line has 11 words\n",
      "This line has 10 words\n",
      "This line has 19 words\n"
     ]
    }
   ],
   "source": [
    "# Exercise 16 - Write a function that takes a string as input and calculates the length.\n",
    "\n",
    "def get_length(marks):\n",
    "    print(\"This line has\",(len(marks)), \"words\")\n",
    "    \n",
    "\n",
    "get_length(\"Salam\")\n",
    "get_length(\"Abrakadabra\")\n",
    "get_length(\"Healthcare\")\n",
    "get_length(\"Infectious Diseases\")"
   ]
  },
  {
   "cell_type": "code",
   "execution_count": 152,
   "metadata": {},
   "outputs": [
    {
     "name": "stdout",
     "output_type": "stream",
     "text": [
      "This number 1 is odd\n",
      "This number 2 is even\n",
      "This number 3 is odd\n",
      "This number 4 is even\n",
      "This number 5 is odd\n",
      "This number 6 is even\n",
      "This number 7 is odd\n",
      "This number 8 is even\n",
      "This number 9 is odd\n",
      "This number 10 is even\n"
     ]
    }
   ],
   "source": [
    "#Exercise 17 Write a function which checks whether a number is even.\n",
    "\n",
    "                    \n",
    "num = (1, 2, 3, 4, 5, 6, 7, 8, 9, 10)\n",
    "\n",
    "def isnumber_even(num):\n",
    "    if num % 2 == 0:\n",
    "        print(\"This number\", num, \"is even\")\n",
    "    else:\n",
    "        print(\"This number\", num, \"is odd\")\n",
    "\n",
    "for x in num:\n",
    "    isnumber_even(x)\n",
    "\n",
    "\n",
    "                "
   ]
  },
  {
   "cell_type": "code",
   "execution_count": 175,
   "metadata": {},
   "outputs": [
    {
     "name": "stdout",
     "output_type": "stream",
     "text": [
      "Old Persons use in the Internet. Yeah!\n"
     ]
    }
   ],
   "source": [
    "# Exercise 19\n",
    "\n",
    "list = (10, 20, 30, 40, 50, 60, 70, 80)\n",
    "string = (80)\n",
    "\n",
    "result = list.count(80)\n",
    "\n",
    "if result > 0:\n",
    "    print(\"Old Persons use in the Internet. Yeah!\")\n",
    "else:\n",
    "    print(\"Old Persons dont use the Internet\")\n"
   ]
  }
 ],
 "metadata": {
  "kernelspec": {
   "display_name": "base",
   "language": "python",
   "name": "python3"
  },
  "language_info": {
   "codemirror_mode": {
    "name": "ipython",
    "version": 3
   },
   "file_extension": ".py",
   "mimetype": "text/x-python",
   "name": "python",
   "nbconvert_exporter": "python",
   "pygments_lexer": "ipython3",
   "version": "3.9.13"
  },
  "orig_nbformat": 4,
  "vscode": {
   "interpreter": {
    "hash": "b1427abf3b1641d47a4886c10bb719f53c7704f619927e972a3743f6046dccf4"
   }
  }
 },
 "nbformat": 4,
 "nbformat_minor": 2
}
