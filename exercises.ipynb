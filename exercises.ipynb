{
 "cells": [
  {
   "cell_type": "code",
   "execution_count": 1,
   "metadata": {},
   "outputs": [
    {
     "name": "stdout",
     "output_type": "stream",
     "text": [
      "Antonia\n"
     ]
    }
   ],
   "source": [
    "print(\"Antonia\")\n"
   ]
  },
  {
   "cell_type": "code",
   "execution_count": 1,
   "metadata": {},
   "outputs": [
    {
     "name": "stdout",
     "output_type": "stream",
     "text": [
      "my age:33\n"
     ]
    }
   ],
   "source": [
    "print(\"my age:33\")"
   ]
  },
  {
   "cell_type": "code",
   "execution_count": 6,
   "metadata": {},
   "outputs": [
    {
     "name": "stdout",
     "output_type": "stream",
     "text": [
      "my_age - julia_age\n"
     ]
    }
   ],
   "source": [
    "julia_age = (\"32\") \n",
    "my_age = (\"33\")\n",
    "age_diff = (\"my_age - julia_age\")\n",
    "\n",
    "print(\"my_age - julia_age\")"
   ]
  },
  {
   "cell_type": "code",
   "execution_count": 20,
   "metadata": {},
   "outputs": [
    {
     "name": "stdout",
     "output_type": "stream",
     "text": [
      "You are not older than 21\n"
     ]
    }
   ],
   "source": [
    "# Exercise 4 If...Else\n",
    "\n",
    "a = 20\n",
    "b = 21\n",
    "\n",
    "if a > b:\n",
    "\tprint(\"You are older than 21\")\n",
    "\n",
    "elif a < b:\n",
    "\tprint(\"You are not older than 21\")\n"
   ]
  },
  {
   "cell_type": "code",
   "execution_count": 23,
   "metadata": {},
   "outputs": [
    {
     "name": "stdout",
     "output_type": "stream",
     "text": [
      "Julia is older than you\n"
     ]
    }
   ],
   "source": [
    "# Exercise 5 \n",
    "\n",
    "my_age = 32\n",
    "julia_age = 35\n",
    "\n",
    "if my_age > julia_age:\n",
    "    print(\"Julia is younger than you\")\n",
    "\n",
    "elif my_age < julia_age:\n",
    "    print(\"Julia is older than you\")\n",
    "\n",
    "elif my_age == julia_age:\n",
    "    print(\"You have the same age as Julia\")"
   ]
  },
  {
   "cell_type": "code",
   "execution_count": 33,
   "metadata": {},
   "outputs": [
    {
     "name": "stdout",
     "output_type": "stream",
     "text": [
      "Stefan Dingler\n",
      "Antonia Fuhr\n",
      "Mohammed Al-Mashraee\n",
      "Rene van der Hout\n",
      "Fariha Ghiasi\n",
      "Konstantin Buravcov\n",
      "Arjun Pavakkulath\n",
      "Killian Meehan\n",
      "['Antonia Fuhr', 'Arjun Pavakkulath', 'Fariha Ghiasi', 'Killian Meehan', 'Konstantin Buravcov', 'Mohammed Al-Mashraee', 'Rene van der Hout', 'Stefan Dingler']\n",
      "Stefan Dingler\n",
      "Antonia Fuhr\n"
     ]
    }
   ],
   "source": [
    "# Exercise 6 List and Loops\n",
    "\n",
    "course_members = [\"Stefan Dingler\", \"Antonia Fuhr\", \"Mohammed Al-Mashraee\", \"Rene van der Hout\",\n",
    "                  \"Fariha Ghiasi\", \"Konstantin Buravcov\", \"Arjun Pavakkulath\", \"Killian Meehan\"]\n",
    "\n",
    "for x in course_members: \n",
    "    print(x)\n",
    "\n",
    "course_members.sort()\n",
    "\n",
    "print(course_members)\n",
    "\n",
    "print(course_members[-1])\n",
    "print(course_members[0])"
   ]
  },
  {
   "cell_type": "code",
   "execution_count": 60,
   "metadata": {},
   "outputs": [
    {
     "name": "stdout",
     "output_type": "stream",
     "text": [
      "20\n",
      "21\n",
      "22\n",
      "23\n",
      "24\n",
      "25\n",
      "40\n"
     ]
    }
   ],
   "source": [
    "# Exercise 7 Ages of Students\n",
    "\n",
    "age_members = [\"20\", \"21\", \"22\", \"23\", \"24\", \"25\", \"40\"]\n",
    "\n",
    "for x in age_members:\n",
    "    print(x)\n",
    "    "
   ]
  },
  {
   "cell_type": "code",
   "execution_count": 58,
   "metadata": {},
   "outputs": [
    {
     "ename": "TypeError",
     "evalue": "not all arguments converted during string formatting",
     "output_type": "error",
     "traceback": [
      "\u001b[1;31m---------------------------------------------------------------------------\u001b[0m",
      "\u001b[1;31mTypeError\u001b[0m                                 Traceback (most recent call last)",
      "\u001b[1;32m~\\AppData\\Local\\Temp\\ipykernel_22352\\2838181040.py\u001b[0m in \u001b[0;36m<module>\u001b[1;34m\u001b[0m\n\u001b[0;32m      1\u001b[0m \u001b[0mage_members\u001b[0m \u001b[1;33m=\u001b[0m \u001b[1;33m[\u001b[0m\u001b[1;34m\"20\"\u001b[0m\u001b[1;33m,\u001b[0m \u001b[1;34m\"21\"\u001b[0m\u001b[1;33m,\u001b[0m \u001b[1;34m\"22\"\u001b[0m\u001b[1;33m,\u001b[0m \u001b[1;34m\"23\"\u001b[0m\u001b[1;33m,\u001b[0m \u001b[1;34m\"24\"\u001b[0m\u001b[1;33m,\u001b[0m \u001b[1;34m\"25\"\u001b[0m\u001b[1;33m,\u001b[0m \u001b[1;34m\"40\"\u001b[0m\u001b[1;33m]\u001b[0m\u001b[1;33m\u001b[0m\u001b[1;33m\u001b[0m\u001b[0m\n\u001b[0;32m      2\u001b[0m \u001b[1;32mfor\u001b[0m \u001b[0mx\u001b[0m \u001b[1;32min\u001b[0m \u001b[0mage_members\u001b[0m\u001b[1;33m:\u001b[0m\u001b[1;33m\u001b[0m\u001b[1;33m\u001b[0m\u001b[0m\n\u001b[1;32m----> 3\u001b[1;33m     \u001b[1;32mif\u001b[0m\u001b[1;33m(\u001b[0m\u001b[0mx\u001b[0m\u001b[1;33m%\u001b[0m\u001b[1;36m2\u001b[0m\u001b[1;33m==\u001b[0m\u001b[1;36m0\u001b[0m\u001b[1;33m)\u001b[0m\u001b[1;33m:\u001b[0m\u001b[1;33m\u001b[0m\u001b[1;33m\u001b[0m\u001b[0m\n\u001b[0m\u001b[0;32m      4\u001b[0m         \u001b[0mprint\u001b[0m\u001b[1;33m(\u001b[0m\u001b[0mX\u001b[0m\u001b[1;33m)\u001b[0m\u001b[1;33m\u001b[0m\u001b[1;33m\u001b[0m\u001b[0m\n",
      "\u001b[1;31mTypeError\u001b[0m: not all arguments converted during string formatting"
     ]
    }
   ],
   "source": [
    "age_members = [\"20\", \"21\", \"22\", \"23\", \"24\", \"25\", \"40\"]\n",
    "for x in age_members:\n",
    "    if(x%2==0):\n",
    "        print(X)"
   ]
  },
  {
   "cell_type": "code",
   "execution_count": 70,
   "metadata": {},
   "outputs": [
    {
     "name": "stdout",
     "output_type": "stream",
     "text": [
      "20\n",
      "22\n",
      "24\n",
      "40\n"
     ]
    }
   ],
   "source": [
    "# Exercise 7 Ages of Students\n",
    "\n",
    "list1 = [20, 21, 22, 23, 24, 25, 40]\n",
    "\n",
    "for number in list1:\n",
    "    if (number % 2 == 0):\n",
    "        print(number)"
   ]
  },
  {
   "cell_type": "code",
   "execution_count": null,
   "metadata": {},
   "outputs": [],
   "source": [
    "# Exercise 7 Using a While Loop\n",
    "\n"
   ]
  }
 ],
 "metadata": {
  "kernelspec": {
   "display_name": "base",
   "language": "python",
   "name": "python3"
  },
  "language_info": {
   "codemirror_mode": {
    "name": "ipython",
    "version": 3
   },
   "file_extension": ".py",
   "mimetype": "text/x-python",
   "name": "python",
   "nbconvert_exporter": "python",
   "pygments_lexer": "ipython3",
   "version": "3.9.13"
  },
  "orig_nbformat": 4,
  "vscode": {
   "interpreter": {
    "hash": "b1427abf3b1641d47a4886c10bb719f53c7704f619927e972a3743f6046dccf4"
   }
  }
 },
 "nbformat": 4,
 "nbformat_minor": 2
}
